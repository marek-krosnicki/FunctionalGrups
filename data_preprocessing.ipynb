{
 "cells": [
  {
   "cell_type": "markdown",
   "metadata": {},
   "source": [
    "\\#* - borrowed from Enders and coworkers. https://github.com/Ohio-State-Allen-Lab/FTIRMachineLearning/blob/main/cas_inchi.py"
   ]
  },
  {
   "cell_type": "code",
   "execution_count": 29,
   "metadata": {},
   "outputs": [],
   "source": [
    "import pandas as pd \n",
    "import numpy as np\n",
    "from rdkit import Chem, RDLogger\n",
    "import os\n",
    "from scipy.interpolate import CubicSpline\n",
    "import matplotlib.pyplot as plt\n",
    "import shutil\n",
    "import collections.abc as c\n",
    "\n",
    "RDLogger.DisableLog('rdApp.*')\n",
    "pd.set_option('future.no_silent_downcasting', True)"
   ]
  },
  {
   "cell_type": "code",
   "execution_count": 2,
   "metadata": {},
   "outputs": [],
   "source": [
    "#*\n",
    "smarts = {'alkane':'[CX4;H0,H1,H2,H4]',\n",
    "                   'methyl':'[CH3]',\n",
    "                   'alkene':'[CX3]=[CX3]',\n",
    "                   'alkyne':'[CX2]#C',\n",
    "                   'alcohols':'[#6][OX2H]',\n",
    "                   'amines':'[NX3;H2,H1;!$(NC=O)]', \n",
    "                   'nitriles':'[NX1]#[CX2]', \n",
    "                   'aromatics':'[$([cX3](:*):*),$([cX2+](:*):*)]',\n",
    "                   'alkyl halides':'[#6][F,Cl,Br,I]', \n",
    "                   'esters':'[#6][CX3](=O)[OX2H0][#6]', \n",
    "                   'ketones':'[#6][CX3](=O)[#6]',\n",
    "                   'aldehydes':'[CX3H1](=O)[#6]', \n",
    "                   'carboxylic acids':'[CX3](=O)[OX2H1]', \n",
    "                   'ether': '[OD2]([#6])[#6]',\n",
    "                   'acyl halides':'[CX3](=[OX1])[F,Cl,Br,I]',\n",
    "                   'amides':'[NX3][CX3](=[OX1])[#6]',\n",
    "                   'nitro':'[$([NX3](=O)=O),$([NX3+](=O)[O-])][!#8]',\n",
    "                   'heterocyclic': '[!#6;!R0]',\n",
    "                   'aryl chlorides': '[Cl][c]',\n",
    "                   'carboxylic esters': '[CX3;$([R0][#6]),$([H1R0])](=[OX1])[OX2][#6;!$(C=[O,N,S])]',\n",
    "                   'alkyl aryl ethers': '[OX2](c)[CX4;!$(C([OX2])[O,S,#7,#15,F,Cl,Br,I])]',\n",
    "                   'phenols': '[OX2H][c]'}\n",
    "\n",
    "#Creates Mol structures from SMARTS codes.\n",
    "func_grp_structs = {func_name : Chem.MolFromSmarts(func_smarts)\\\n",
    "                        for func_name, func_smarts in smarts.items()}"
   ]
  },
  {
   "cell_type": "code",
   "execution_count": 3,
   "metadata": {},
   "outputs": [],
   "source": [
    "#*\n",
    "def identify_functional_groups(inchi) -> (list|None):\n",
    "    '''\n",
    "    Identifies funtional groups from InChI.\n",
    "\n",
    "    Parameters\n",
    "    ----------\n",
    "\n",
    "    inchi : Any\n",
    "        International Chemical Identifier.\n",
    "    '''\n",
    "    try:\n",
    "        #Convert inchi to molecule\n",
    "        mol = Chem.MolFromInchi(inchi, treatWarningAsError = True)   \n",
    "        mol_func_grps = []\n",
    "\n",
    "        #populate the list with binary values\n",
    "        for _, func_struct in func_grp_structs.items():\n",
    "            struct_matches = mol.GetSubstructMatches(func_struct)\n",
    "            contains_func_grp = int(len(struct_matches) > 0)\n",
    "            mol_func_grps.append(contains_func_grp)\n",
    "        return mol_func_grps\n",
    "    \n",
    "    except:\n",
    "        return None"
   ]
  },
  {
   "cell_type": "code",
   "execution_count": 4,
   "metadata": {},
   "outputs": [],
   "source": [
    "main_dir = os.path.join('..', 'ALL')"
   ]
  },
  {
   "cell_type": "code",
   "execution_count": 5,
   "metadata": {},
   "outputs": [],
   "source": [
    "def createFolders() -> None:\n",
    "    '''\n",
    "    Creates folders for each functional group.\n",
    "    '''\n",
    "    func_groups_path = os.path.join(main_dir, 'functional_groups')\n",
    "    for func_group in smarts.keys():\n",
    "        if func_group not in os.listdir(func_groups_path):\n",
    "            func_group_dir = os.path.join(func_groups_path, func_group)\n",
    "            os.mkdir(func_group_dir)"
   ]
  },
  {
   "cell_type": "code",
   "execution_count": 6,
   "metadata": {},
   "outputs": [],
   "source": [
    "createFolders()"
   ]
  },
  {
   "cell_type": "code",
   "execution_count": 7,
   "metadata": {},
   "outputs": [],
   "source": [
    "def countFuncGroupDirectories() -> pd.DataFrame:\n",
    "    '''\n",
    "    Returns the size of each functional group directory(files that passed).\n",
    "    '''\n",
    "    func_groups_path = os.path.join(main_dir, 'functional_groups')\n",
    "    func_groups_count = {}\n",
    "    for func_group_dir in os.listdir(func_groups_path):\n",
    "        func_groups_count[func_group_dir] = len(os.listdir(os.path.join(func_groups_path, func_group_dir)))\n",
    "    return pd.DataFrame(func_groups_count, index = ['functional group count'])"
   ]
  },
  {
   "cell_type": "code",
   "execution_count": 8,
   "metadata": {},
   "outputs": [
    {
     "data": {
      "text/html": [
       "<div>\n",
       "<style scoped>\n",
       "    .dataframe tbody tr th:only-of-type {\n",
       "        vertical-align: middle;\n",
       "    }\n",
       "\n",
       "    .dataframe tbody tr th {\n",
       "        vertical-align: top;\n",
       "    }\n",
       "\n",
       "    .dataframe thead th {\n",
       "        text-align: right;\n",
       "    }\n",
       "</style>\n",
       "<table border=\"1\" class=\"dataframe\">\n",
       "  <thead>\n",
       "    <tr style=\"text-align: right;\">\n",
       "      <th></th>\n",
       "      <th>functional group count</th>\n",
       "    </tr>\n",
       "  </thead>\n",
       "  <tbody>\n",
       "    <tr>\n",
       "      <th>carboxylic esters</th>\n",
       "      <td>743</td>\n",
       "    </tr>\n",
       "    <tr>\n",
       "      <th>alkyl halides</th>\n",
       "      <td>2683</td>\n",
       "    </tr>\n",
       "    <tr>\n",
       "      <th>aryl chlorides</th>\n",
       "      <td>887</td>\n",
       "    </tr>\n",
       "    <tr>\n",
       "      <th>methyl</th>\n",
       "      <td>5381</td>\n",
       "    </tr>\n",
       "    <tr>\n",
       "      <th>nitriles</th>\n",
       "      <td>383</td>\n",
       "    </tr>\n",
       "    <tr>\n",
       "      <th>aldehydes</th>\n",
       "      <td>206</td>\n",
       "    </tr>\n",
       "    <tr>\n",
       "      <th>ether</th>\n",
       "      <td>1876</td>\n",
       "    </tr>\n",
       "    <tr>\n",
       "      <th>acyl halides</th>\n",
       "      <td>99</td>\n",
       "    </tr>\n",
       "    <tr>\n",
       "      <th>esters</th>\n",
       "      <td>805</td>\n",
       "    </tr>\n",
       "    <tr>\n",
       "      <th>nitro</th>\n",
       "      <td>588</td>\n",
       "    </tr>\n",
       "    <tr>\n",
       "      <th>alcohols</th>\n",
       "      <td>2775</td>\n",
       "    </tr>\n",
       "    <tr>\n",
       "      <th>alkyne</th>\n",
       "      <td>185</td>\n",
       "    </tr>\n",
       "    <tr>\n",
       "      <th>aromatics</th>\n",
       "      <td>4657</td>\n",
       "    </tr>\n",
       "    <tr>\n",
       "      <th>phenols</th>\n",
       "      <td>605</td>\n",
       "    </tr>\n",
       "    <tr>\n",
       "      <th>heterocyclic</th>\n",
       "      <td>1976</td>\n",
       "    </tr>\n",
       "    <tr>\n",
       "      <th>ketones</th>\n",
       "      <td>579</td>\n",
       "    </tr>\n",
       "    <tr>\n",
       "      <th>amides</th>\n",
       "      <td>182</td>\n",
       "    </tr>\n",
       "    <tr>\n",
       "      <th>alkyl aryl ethers</th>\n",
       "      <td>558</td>\n",
       "    </tr>\n",
       "    <tr>\n",
       "      <th>alkene</th>\n",
       "      <td>1171</td>\n",
       "    </tr>\n",
       "    <tr>\n",
       "      <th>carboxylic acids</th>\n",
       "      <td>705</td>\n",
       "    </tr>\n",
       "    <tr>\n",
       "      <th>alkane</th>\n",
       "      <td>5788</td>\n",
       "    </tr>\n",
       "    <tr>\n",
       "      <th>amines</th>\n",
       "      <td>1324</td>\n",
       "    </tr>\n",
       "  </tbody>\n",
       "</table>\n",
       "</div>"
      ],
      "text/plain": [
       "                   functional group count\n",
       "carboxylic esters                     743\n",
       "alkyl halides                        2683\n",
       "aryl chlorides                        887\n",
       "methyl                               5381\n",
       "nitriles                              383\n",
       "aldehydes                             206\n",
       "ether                                1876\n",
       "acyl halides                           99\n",
       "esters                                805\n",
       "nitro                                 588\n",
       "alcohols                             2775\n",
       "alkyne                                185\n",
       "aromatics                            4657\n",
       "phenols                               605\n",
       "heterocyclic                         1976\n",
       "ketones                               579\n",
       "amides                                182\n",
       "alkyl aryl ethers                     558\n",
       "alkene                               1171\n",
       "carboxylic acids                      705\n",
       "alkane                               5788\n",
       "amines                               1324"
      ]
     },
     "execution_count": 8,
     "metadata": {},
     "output_type": "execute_result"
    }
   ],
   "source": [
    "countFuncGroupDirectories().T"
   ]
  },
  {
   "cell_type": "code",
   "execution_count": 9,
   "metadata": {},
   "outputs": [],
   "source": [
    "mol_dir_path = os.path.join(main_dir, 'mol')"
   ]
  },
  {
   "cell_type": "code",
   "execution_count": 10,
   "metadata": {},
   "outputs": [],
   "source": [
    "def identifyFuncGroupsDirectory() -> pd.DataFrame:\n",
    "    '''\n",
    "    Returns the distribution of functional group files.\n",
    "    '''\n",
    "    functional_groups = {}\n",
    "    for molfile in os.listdir(mol_dir_path):\n",
    "        try:\n",
    "            mol = Chem.MolFromMolFile(os.path.join(mol_dir_path, molfile))\n",
    "            func_groups = identify_functional_groups(Chem.MolToInchi(mol))\n",
    "            functional_groups[molfile.split('.')[0]] = func_groups\n",
    "        \n",
    "        except:\n",
    "            continue\n",
    "\n",
    "    return pd.DataFrame(functional_groups, index = smarts.keys())"
   ]
  },
  {
   "cell_type": "code",
   "execution_count": 11,
   "metadata": {},
   "outputs": [],
   "source": [
    "identified_func_groups = identifyFuncGroupsDirectory()"
   ]
  },
  {
   "cell_type": "code",
   "execution_count": 12,
   "metadata": {},
   "outputs": [
    {
     "data": {
      "text/plain": [
       "alkane               6087\n",
       "methyl               5648\n",
       "alkene               1229\n",
       "alkyne                186\n",
       "alcohols             2960\n",
       "amines               1423\n",
       "nitriles              404\n",
       "aromatics            4912\n",
       "alkyl halides        2860\n",
       "esters                850\n",
       "ketones               588\n",
       "aldehydes             211\n",
       "carboxylic acids      753\n",
       "ether                1980\n",
       "acyl halides          104\n",
       "amides                197\n",
       "nitro                 628\n",
       "heterocyclic         2064\n",
       "aryl chlorides        972\n",
       "carboxylic esters     781\n",
       "alkyl aryl ethers     590\n",
       "phenols               650\n",
       "dtype: object"
      ]
     },
     "execution_count": 12,
     "metadata": {},
     "output_type": "execute_result"
    }
   ],
   "source": [
    "identified_func_groups.sum(axis=1)"
   ]
  },
  {
   "cell_type": "code",
   "execution_count": 13,
   "metadata": {},
   "outputs": [],
   "source": [
    "jdx_dir_path = os.path.join(main_dir, 'jdx')"
   ]
  },
  {
   "cell_type": "code",
   "execution_count": 14,
   "metadata": {},
   "outputs": [],
   "source": [
    "def normalizeData(data: np.ndarray|pd.Series|pd.DataFrame) -> np.ndarray|pd.Series|pd.DataFrame:\n",
    "    '''\n",
    "    Normalizes y axis to [0, 1].\n",
    "\n",
    "    Parameters\n",
    "    ----------\n",
    "\n",
    "    data : ndarray|Series|DataFrame\n",
    "        Data that is to be normalized.\n",
    "    '''\n",
    "    return (data - data.min()) / (data.max() - data.min())"
   ]
  },
  {
   "cell_type": "code",
   "execution_count": 15,
   "metadata": {},
   "outputs": [],
   "source": [
    "def umToInverseCmList(um: c.Iterable) -> c.Iterable:\n",
    "    '''\n",
    "    Returns a list of μm converted to cm-1.\n",
    "\n",
    "    Parameters\n",
    "    ----------\n",
    "\n",
    "    um : Iterable\n",
    "        Iterable containing μm data.\n",
    "    '''\n",
    "    \n",
    "    return [1e4/(1.00027*float(i)) for i in um]    "
   ]
  },
  {
   "cell_type": "code",
   "execution_count": 16,
   "metadata": {},
   "outputs": [],
   "source": [
    "def umToInverseCm(um: float) -> float:\n",
    "    '''\n",
    "    Returns μm converted to cm-1.\n",
    "\n",
    "    Parameters\n",
    "    ----------\n",
    "\n",
    "    um : float\n",
    "        μm data.\n",
    "    '''\n",
    "    return 1e4/(1.00027*um)  "
   ]
  },
  {
   "cell_type": "code",
   "execution_count": 17,
   "metadata": {},
   "outputs": [],
   "source": [
    "def yUnitsCounter(unit: str) -> int:\n",
    "    '''\n",
    "    Counts y units of choice.\n",
    "\n",
    "    Parameters\n",
    "    ----------\n",
    "\n",
    "    unit : str\n",
    "        Name of unit to be counted.\n",
    "    '''\n",
    "    counter = 0\n",
    "    for jdx_file_path in os.listdir(jdx_dir_path):\n",
    "            with open(os.path.join(jdx_dir_path, jdx_file_path), 'r') as jdxfile:\n",
    "                for _, line in enumerate(jdxfile):\n",
    "                    if line.startswith(f'##YUNITS={unit}'):\n",
    "                        counter += 1\n",
    "            \n",
    "    return counter"
   ]
  },
  {
   "cell_type": "code",
   "execution_count": 18,
   "metadata": {},
   "outputs": [
    {
     "name": "stdout",
     "output_type": "stream",
     "text": [
      "5835\n"
     ]
    }
   ],
   "source": [
    "print(yUnitsCounter('ABSORBANCE'))"
   ]
  },
  {
   "cell_type": "code",
   "execution_count": 24,
   "metadata": {},
   "outputs": [],
   "source": [
    "def preprocessData(save_dirpath: str|os.PathLike|bytes) -> None:\n",
    "    '''\n",
    "    Converts x and y units, checks x unit range, normalizes data.\n",
    "\n",
    "    Parameters\n",
    "    ----------\n",
    "\n",
    "    save_dirpath : str|os.PathLike|bytes\n",
    "        Directory path to save preprocessed data.\n",
    "    '''\n",
    "    all_counter = 0\n",
    "    passed_counter = 0\n",
    "    for jdx_file_path in os.listdir(jdx_dir_path):\n",
    "        with open(os.path.join(jdx_dir_path, jdx_file_path), 'r') as jdxfile:\n",
    "            all_counter += 1\n",
    "            jdxfile = jdxfile.read().split('\\n')\n",
    "            \n",
    "            for index, line in enumerate(jdxfile):\n",
    "                    \n",
    "                if line.startswith('##XUNITS'):\n",
    "                    if line.split('##XUNITS=')[1] == 'MICROMETERS':\n",
    "                        um = True\n",
    "\n",
    "                    else:\n",
    "                        um = False\n",
    "\n",
    "\n",
    "                elif line.startswith('##YUNITS'):\n",
    "                    #Get spectra type (transmittance/absorbance)\n",
    "                    spectraType = line.strip(\"##\").split('=')[1]\n",
    "                    if line.startswith('##YUNITS=TRANSMITTANCE'):\n",
    "                        transm = True \n",
    "\n",
    "                    else:\n",
    "                        transm = False\n",
    "\n",
    "\n",
    "                elif line.startswith('##FIRSTX'):\n",
    "                    #Check first x in the spectra\n",
    "                    firstX = float(line.strip('##').split('=')[1])\n",
    "\n",
    "\n",
    "                elif line.startswith('##LASTX'):\n",
    "                    #Check last x in the spectra\n",
    "                    lastX = float(line.strip('##').split('=')[1])\n",
    "                    if um:\n",
    "                        firstX = umToInverseCm(firstX)\n",
    "                        lastX = umToInverseCm(lastX)\n",
    "            \n",
    "                    reverse = False\n",
    "\n",
    "                    if lastX < firstX:\n",
    "                        reverse = True\n",
    "                        cp = lastX\n",
    "                        lastX = firstX\n",
    "                        firstX = cp\n",
    "                    \n",
    "\n",
    "                    if firstX > 670:\n",
    "                        break  \n",
    "                    \n",
    "                    if lastX < 3775:                 \n",
    "                        break\n",
    "\n",
    "                    passed_counter += 1\n",
    "                    \n",
    "\n",
    "                elif line.startswith('##XYDATA'):\n",
    "                    #Get spectra\n",
    "                    spectra = jdxfile[index+1:-2]\n",
    "\n",
    "                    try:\n",
    "                        x, y = [line.split(' ')[0] for line in spectra], [line.split(' ')[1] for line in spectra]\n",
    "                    except:\n",
    "                        print(f'Corrupted file is: {jdx_file_path}')\n",
    "                        break\n",
    "                    if um:\n",
    "                        x = umToInverseCmList(x)\n",
    "                    \n",
    "                    if reverse == True:\n",
    "                        x.reverse()\n",
    "                        y.reverse()\n",
    "\n",
    "                        \n",
    "                    y = normalizeData(CubicSpline(x, y)(np.arange(670, 3776, 1)))\n",
    "                    if transm == True:\n",
    "                        y = 1 - y                        \n",
    "                        spectraType = \"Converted_to_absorbance\"\n",
    "                        \n",
    "                    \n",
    "                    try:\n",
    "                        df = pd.DataFrame([y, \n",
    "                                            pd.concat(\n",
    "                                                [identified_func_groups.loc[:, jdx_file_path.split('-IR.jdx')[0]],\n",
    "                                                pd.Series(\n",
    "                                                    [np.nan for _ in range(len(y)-len(identified_func_groups.loc[:, jdx_file_path.split('-IR.jdx')[0]]))])\n",
    "                                                ]\n",
    "                                                ), \n",
    "                                                [spectraType] + [np.nan for _ in range(len(y)-1)]\n",
    "                                            ], \n",
    "                                            index = ['y', 'funcGroups', 'spectraType']\n",
    "                                        ).T\n",
    "                        \n",
    "                        df.to_csv(f\"{os.path.join(save_dirpath, jdx_file_path.split('-IR.jdx')[0])}.csv\", index=False)\n",
    "\n",
    "                    except:\n",
    "                        break\n",
    "                    \n",
    "                    break\n",
    "                \n",
    "    print(f'Number of all files: {all_counter}')\n",
    "    print(f'Number of passed files: {passed_counter}')"
   ]
  },
  {
   "cell_type": "code",
   "execution_count": 22,
   "metadata": {},
   "outputs": [
    {
     "name": "stdout",
     "output_type": "stream",
     "text": [
      "../ALL/preprocessed_data\n"
     ]
    }
   ],
   "source": [
    "print(os.path.join(main_dir, 'preprocessed_data'))"
   ]
  },
  {
   "cell_type": "code",
   "execution_count": 25,
   "metadata": {},
   "outputs": [
    {
     "name": "stdout",
     "output_type": "stream",
     "text": [
      "Corrupted file is: C96800-IR.jdx\n",
      "Corrupted file is: C15980151-IR.jdx\n",
      "Corrupted file is: C9003536-IR.jdx\n",
      "Corrupted file is: C55914-IR.jdx\n",
      "Corrupted file is: C693072-IR.jdx\n",
      "Corrupted file is: C13463406-IR.jdx\n",
      "Number of all files: 9271\n",
      "Number of passed files: 8815\n"
     ]
    }
   ],
   "source": [
    "preprocessData(os.path.join(main_dir, 'preprocessed_data'))"
   ]
  },
  {
   "cell_type": "code",
   "execution_count": 26,
   "metadata": {},
   "outputs": [],
   "source": [
    "preprocessed_data_path = os.path.join(main_dir, 'preprocessed_data')\n",
    "functional_groups_path = os.path.join(main_dir, 'functional_groups')"
   ]
  },
  {
   "cell_type": "code",
   "execution_count": 27,
   "metadata": {},
   "outputs": [],
   "source": [
    "def distributeDataIntoDirs() -> None:\n",
    "    '''\n",
    "    Distributes spectroscopic files into directories of specific functional groups.\n",
    "    '''\n",
    "    for file_path in os.listdir(preprocessed_data_path):\n",
    "        file = pd.read_csv(os.path.join(preprocessed_data_path, file_path))\n",
    "        funcGroups = file.loc[:,'funcGroups'].dropna()\n",
    "        funcGroups =  (funcGroups.astype(bool) * pd.Series(list(smarts.keys()))).replace('', np.nan).dropna().reset_index(drop=True)\n",
    "        for funcGroup in funcGroups:\n",
    "            shutil.copyfile(os.path.join(preprocessed_data_path, file_path), os.path.join(functional_groups_path, funcGroup, file_path))"
   ]
  },
  {
   "cell_type": "code",
   "execution_count": 30,
   "metadata": {},
   "outputs": [],
   "source": [
    "distributeDataIntoDirs()"
   ]
  }
 ],
 "metadata": {
  "kernelspec": {
   "display_name": "Python 3",
   "language": "python",
   "name": "python3"
  },
  "language_info": {
   "codemirror_mode": {
    "name": "ipython",
    "version": 3
   },
   "file_extension": ".py",
   "mimetype": "text/x-python",
   "name": "python",
   "nbconvert_exporter": "python",
   "pygments_lexer": "ipython3",
   "version": "3.12.5"
  }
 },
 "nbformat": 4,
 "nbformat_minor": 4
}
